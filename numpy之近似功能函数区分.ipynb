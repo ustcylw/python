{
 "cells": [
  {
   "cell_type": "markdown",
   "id": "240797f9",
   "metadata": {},
   "source": [
    "# numpy之近似功能函数区分"
   ]
  },
  {
   "cell_type": "markdown",
   "id": "65a79c61",
   "metadata": {
    "ExecuteTime": {
     "end_time": "2021-06-11T06:24:41.834316Z",
     "start_time": "2021-06-11T06:24:41.831106Z"
    }
   },
   "source": [
    "## np.flatten()  np.reval()  np.reshape()  np.resize()  np.squeeze()"
   ]
  },
  {
   "cell_type": "markdown",
   "id": "a2de186a",
   "metadata": {},
   "source": [
    "**两者的功能是一致的，将多维数组降为一维。**\n",
    "**两者的区别是返回拷贝还是返回视图。**\n",
    "\n",
    "np.flatten(0返回一份拷贝，对拷贝所做修改不会影响原始矩阵。\n",
    "\n",
    "np.ravel()返回的是视图，修改时会影响原始矩阵"
   ]
  },
  {
   "cell_type": "markdown",
   "id": "f8052e9f",
   "metadata": {},
   "source": [
    "官网上这样写到** **\"如果结果中的值在原始数组中是连续的，则ravel 不会生成底层数值的副本”**，度娘后，发现大部分的说法都是得到原数组的视图，但是按照书上的说法，是可以产生副本的，只要结果的值在原始数组中不连续。\n",
    "\n",
    "刚开始不太理解，这里所谓的连续是指什么？后来发现，**这个连续是指的是元素顺序，reval()中有个参数【order】，这个参数指定了重塑顺序。**\n",
    "```\n",
    "In [58]: arr2                                                                                                            \n",
    "Out[58]: \n",
    "\n",
    "array([[ 1,  1, -1],\n",
    "       [ 0, -3,  6]])     # arr2 默认安装C顺序展开\n",
    "\n",
    "In [59]: arr3 = np.ravel(arr2,order = 'C')     # C顺序，即是按行方向顺序                                                                           \n",
    "In [60]: arr3                                                                                                            \n",
    "Out[60]: array([ 1,  1, -1,  0, -3,  6])    # arr2,arr3都是按照C顺序展开\n",
    "\n",
    "In [72]: arr3.base is arr2        # arr3基于arr2                                                                                       \n",
    "Out[72]: True\n",
    "\n",
    "In [73]: np.may_share_memory(arr2,arr3)   # arr3,arr2共享内存，则arr3为arr2的视图                                                                                  \n",
    "Out[73]: True\n",
    "```\n",
    "```\n",
    "In [62]: arr4 = np.ravel(arr2,order = 'F')   #arr4 按照F顺序，即是列顺序重塑                                                                            \n",
    "In [63]: arr4                                                                                                            \n",
    "Out[63]: array([ 1,  0,  1, -3, -1,  6])    #可以看出顺序与arr2的不同\n",
    "\n",
    "In [64]: arr4.base is arr2         #arr4 不是基于arr2                                                                                      \n",
    "Out[64]: False\n",
    "\n",
    "In [65]: np.may_share_memory(arr2,arr4)     #arr4,arr2  不共享内存                                                                             \n",
    "Out[65]: False\n",
    "\n",
    "In [74]: arr4.flags.owndata   #arr4拥有自己的数据，说明独立于arr2，是一个副本                                                                                         \n",
    "Out[74]: True\n",
    "```\n",
    "```\n",
    "In [66]: arr5 = np.ravel(arr2.T, order='A')  #A顺序，应该是针对于转置后的重塑                                                                            \n",
    "In [67]: arr5                                                                                                            \n",
    "Out[67]: array([ 1,  1, -1,  0, -3,  6])   #得到结果顺序与arr2的一致，也是C顺序\n",
    "\n",
    "In [68]: np.may_share_memory(arr2,arr5)    # arr5,arr2共享内存，则arr5为arr2的视图                                                                              \n",
    "Out[68]: True\n",
    "```\n",
    "```\n",
    "In [69]: arr6 = np.ravel(arr2.swapaxes(0,1), order='K')  #A顺序，应该是针对于轴交换后的重塑                                                               \n",
    "In [70]: arr6                                                                                                            \n",
    "Out[70]: array([ 1,  1, -1,  0, -3,  6]) #得到结果顺序与arr2的一致，也是C顺序\n",
    "\n",
    "In [71]: np.may_share_memory(arr2,arr6) # arr6,arr2共享内存，则arr6为arr2的视图                                                                                 \n",
    "Out[71]: True\n",
    "```\n",
    "**所以ravel()的结果不一定就是原数组的视图，这个要看具体的情况，不过一般重塑都是使用默认的order参数**，按照C顺序重塑，但是使用时也要注意，避免错把视图当做副本，修改视图影响原本的数组。\n",
    "或者**直接使用flatten()，不管参数【order】如何都是，返回一份拷贝**，对拷贝所做的修改不会影响（reflects）原始数组，\n",
    "最后，**也可以通过reshape(-1)使原多维数组转化为一维数组，reshape(x, y)使其转化为其他形状，不过注意使用reshape()都是返回原始数组的视图。**\n",
    "\n",
    "**总结下，\n",
    "1，reshape() 返回原始数组的视图；\n",
    "2，ravel() 返回原始数据的视图或者副本，只有在参数order = ‘F’时返回副本；\n",
    "3，flatten() 返回原始数组的副本；**\n",
    "\n",
    "\n",
    "摘自：https://blog.csdn.net/yangjjuan/article/details/103690716"
   ]
  },
  {
   "cell_type": "markdown",
   "id": "30d08083",
   "metadata": {},
   "source": [
    "numpy中的ravel()、flatten()、squeeze()都有将多维数组转换为一维数组的功能，区别：\n",
    "\n",
    "**ravel()：如果没有必要，不会产生源数据的副本**\n",
    "\n",
    "**flatten()：返回源数据的副本**\n",
    "\n",
    "**squeeze()：只能对维数为1的维度降维**\n",
    "\n",
    "**另外，reshape(-1)也可以“拉平”多维数组**"
   ]
  },
  {
   "cell_type": "markdown",
   "id": "56953a2b",
   "metadata": {},
   "source": [
    "## 组合(stack)不同的数组"
   ]
  },
  {
   "cell_type": "markdown",
   "id": "e5a75ad5",
   "metadata": {},
   "source": [
    "几种方法可以沿不同轴将数组堆叠在一起：\n",
    "\n",
    ">>> a = floor(10*random.random((2,2)))\n",
    ">>> a\n",
    "array([[ 1.,  1.],\n",
    "       [ 5.,  8.]])\n",
    ">>> b = floor(10*random.random((2,2)))\n",
    ">>> b\n",
    "array([[ 3.,  3.],\n",
    "       [ 6.,  0.]])\n",
    ">>> vstack((a,b))\n",
    "array([[ 1.,  1.],\n",
    "       [ 5.,  8.],\n",
    "       [ 3.,  3.],\n",
    "       [ 6.,  0.]])\n",
    ">>> hstack((a,b))\n",
    "array([[ 1.,  1.,  3.,  3.],\n",
    "       [ 5.,  8.,  6.,  0.]])\n",
    "\n",
    "函数column_stack以列将一维数组合成二维数组，它等同与vstack对一维数组。\n",
    "\n",
    ">>> column_stack((a,b))   # With 2D arrays\n",
    "array([[ 1.,  1.,  3.,  3.],\n",
    "       [ 5.,  8.,  6.,  0.]])\n",
    ">>> a=array([4.,2.])\n",
    ">>> b=array([2.,8.])\n",
    ">>> a[:,newaxis]  # This allows to have a 2D columns vector\n",
    "array([[ 4.],\n",
    "       [ 2.]])\n",
    ">>> column_stack((a[:,newaxis],b[:,newaxis]))\n",
    "array([[ 4.,  2.],\n",
    "       [ 2.,  8.]])\n",
    ">>> vstack((a[:,newaxis],b[:,newaxis])) # The behavior of vstack is different\n",
    "array([[ 4.],\n",
    "       [ 2.],\n",
    "       [ 2.],\n",
    "       [ 8.]])\n",
    "\n",
    "row_stack函数，另一方面，将一维数组以行组合成二维数组。\n",
    "\n",
    "对那些维度比二维更高的数组，hstack沿着第二个轴组合，vstack沿着第一个轴组合,concatenate允许可选参数给出组合时沿着的轴。\n",
    "\n",
    "Note\n",
    "\n",
    "在复杂情况下，r_[]和c_[]对创建沿着一个方向组合的数很有用，它们允许范围符号(“:”):\n",
    "\n",
    ">>> r_[1:4,0,4]\n",
    "array([1, 2, 3, 0, 4])\n",
    "1\n",
    "当使用数组作为参数时，r_和c_的默认行为和vstack和hstack很像，但是允许可选的参数给出组合所沿着的轴的代号。\n",
    "\n",
    "更多函数hstack , vstack, column_stack , row_stack , concatenate , c_ , r_ 参见NumPy示例."
   ]
  },
  {
   "cell_type": "markdown",
   "id": "21d660af",
   "metadata": {},
   "source": [
    "Numpy中提供了**concatenate,append, stack类(包括hsatck、vstack、dstack、row_stack、column_stack),r_和c_**等类和函数用于数组拼接的操作。\n",
    "各种函数的特点和区别如下标：\n",
    "\n",
    "concatenate\t       提供了axis参数，用于指定拼接方向\n",
    "append\t           默认先ravel再拼接成一维数组，也可指定axis\n",
    "stack\t           提供了axis参数，用于生成新的维度\n",
    "hstack\t           水平拼接，沿着行的方向，对列进行拼接\n",
    "vstack\t           垂直拼接，沿着列的方向，对行进行拼接\n",
    "dstack\t           沿着第三个轴（深度方向）进行拼接\n",
    "column_stack\t   水平拼接，沿着行的方向，对列进行拼接\n",
    "row_stack\t       垂直拼接，沿着列的方向，对行进行拼接\n",
    "r_\t               垂直拼接，沿着列的方向，对行进行拼接\n",
    "c_\t               水平拼接，沿着行的方向，对列进行拼接\n",
    "\n",
    "#### 维度和轴\n",
    "在正确理解Numpy中的数组拼接、合并操作之前，有必要认识下维度和轴的概念：\n",
    "ndarray(多维数组)是Numpy处理的数据类型。多维数组的维度即为对应数据所在的空间维度，1维可以理解为直线空间，2维可以理解为平面空间，3维可以理解为立方体空间。\n",
    "\n",
    "轴是用来对多维数组所在空间进行定义、描述的一组正交化的直线，根据数学惯例可以用i,j,k来表示。\n",
    "在一维空间中，用一个轴就可以表示清楚，numpy中规定为axis 0，空间内的数可以理解为直线空间上的离散点 (xi, )。\n",
    "在二维空间中，需要用两个轴表示，numpy中规定为axis 0和axis 1，空间内的数可以理解为平面空间上的离散点（xi，yj）。\n",
    "在三维空间中，需要用三个轴才能表示清楚，在二维空间的基础上numpy中又增加了axis 2，空间内的数可以理解为立方体空间上的离散点（xi，yj，zk）。\n",
    "\n",
    "Python中可以用numpy中的ndim和shape来分别查看维度，以及在对应维度上的长度。直观上可以根据符号“[ ]”的层数来判断，有m层即为m维，最外面1层对应axis0， 依次为axis1，axis2…\n",
    "```\n",
    ">>> a = np.array([1,2,3])\n",
    ">>> a.ndim      # 一维数组\n",
    "1\n",
    ">>> a.shape     # 在这个维度上的长度为3\n",
    "(3,)\n",
    "\n",
    ">>> b = np.array([[1,2,3], [4,5,6]])\n",
    ">>> b.ndim     # 二维数组\n",
    "2\n",
    ">>> b.shape      # 在axis 0 上的长度为2， 在axis 1上的长度为3.或者可以感性的理解为2行3列\n",
    "(2, 3)\n",
    "\n",
    ">>> c = np.array([[[1,2,3], [4,5,6]]])\n",
    ">>> c.ndim     # 三维数组\n",
    "3\n",
    ">>> c.shape      # 在axis 0 上的长度为1，在axis 1上的长度为2, 在axis 2上的长度为3. 或者可以感性的理解为1层2行3列\n",
    "(1, 2, 3)\n",
    "```\n",
    "#### np.concatenate()\n",
    "concatenate(a_tuple, axis=0, out=None)\n",
    "\"\"\"\n",
    "参数说明：\n",
    "a_tuple:对需要合并的数组用元组的形式给出\n",
    "axis: 沿指定的轴进行拼接，默认0，即第一个轴\n",
    "\"\"\"\n",
    "\n",
    "```\n",
    ">>> import numpy as np\n",
    ">>> ar1 = np.array([[1,2,3], [4,5,6]])\n",
    ">>> ar2 = np.array([[7,8,9], [11,12,13]])\n",
    ">>> ar1\n",
    "array([[1, 2, 3],\n",
    "       [4, 5, 6]])\n",
    ">>> ar2\n",
    "array([[ 7,  8,  9],\n",
    "       [11, 12, 13]])\n",
    "\n",
    ">>> np.concatenate((ar1, ar2))   # 这里的第一轴(axis 0)是行方向\n",
    "array([[ 1,  2,  3],\n",
    "       [ 4,  5,  6],\n",
    "       [ 7,  8,  9],\n",
    "       [11, 12, 13]])\n",
    "\n",
    ">>> np.concatenate((ar1, ar2),axis=1)   # 这里沿第二个轴，即列方向进行拼接\n",
    "array([[ 1,  2,  3,  7,  8,  9],\n",
    "       [ 4,  5,  6, 11, 12, 13]])\n",
    "\n",
    ">>> ar3 = np.array([[14,15,16]])  # shape为（1，3）的2维数组\n",
    ">>> np.concatenate((ar1, ar3))   # 一般进行concatenate操作的array的shape需要一致，当然如果array在拼接axis方向的size不一样，也可以完成\n",
    ">>> np.concatenate((ar1, ar3))  # ar3虽然在axis0方向的长度不一致，但axis1方向上一致，所以沿axis0可以拼接\n",
    "array([[ 1,  2,  3],\n",
    "       [ 4,  5,  6],\n",
    "       [14, 15, 16]])\n",
    ">>> np.concatenate((ar1, ar3), axis=1)    # ar3和ar1在axis0方向的长度不一致，所以报错\n",
    "```\n",
    "#### pd.append()\n",
    "append(arr, values, axis=None)\n",
    "\"\"\"\n",
    "参数说明：\n",
    "arr：array_like的数据\n",
    "values: array_like的数据，若axis为None，则先将arr和values进行ravel扁平化,再拼接；否则values应当与arr的shape一致，或至多\n",
    "        在拼接axis的方向不一致\n",
    "axis：进行append操作的axis的方向，默认无\n",
    "\"\"\"\n",
    "\n",
    "```\n",
    ">>> np.append(ar1, ar2)    # 先ravel扁平化再拼接，所以返回值为一个1维数组\n",
    "array([ 1,  2,  3,  4,  5,  6,  7,  8,  9, 11, 12, 13])\n",
    "\n",
    ">>> np.append(ar1, ar2, axis=0)     # 沿第一个轴拼接，这里为行的方向 \n",
    "array([[ 1,  2,  3],\n",
    "       [ 4,  5,  6],\n",
    "       [ 7,  8,  9],\n",
    "       [11, 12, 13]])\n",
    "\n",
    ">>> np.append(ar1, ar2, axis=1)     # 沿第二个轴拼接，这里为列的方向 \n",
    "array([[ 1,  2,  3,  7,  8,  9],\n",
    "       [ 4,  5,  6, 11, 12, 13]])\n",
    "```\n",
    "\n",
    "#### np.stack()\n",
    "stack(arrays, axis=0, out=None)\n",
    "\"\"\"\n",
    "沿着指定的axis对arrays(每个array的shape必须一样)进行拼接，返回值的维度比原arrays的维度高1\n",
    "axis：默认为0，即第一个轴，若为-1即为第二个轴\n",
    "\"\"\"\n",
    "\n",
    "```\n",
    ">>> np.stack((ar1, ar2))     # 增加第一个维度（axis0，之后的axis向后顺延：0—>1, 1—>2）\n",
    "array([[[ 1,  2,  3],\n",
    "        [ 4,  5,  6]],\n",
    "       [[ 7,  8,  9],\n",
    "        [11, 12, 13]]])\n",
    "\n",
    ">>> np.stack((ar1, ar2), axis=1)     # 增加第二个维度（axis1，之后的axis向后顺延, 1—>2）\n",
    "array([[[ 1,  2,  3],\n",
    "        [ 7,  8,  9]],\n",
    "       [[ 4,  5,  6],\n",
    "        [11, 12, 13]]])\n",
    "\n",
    ">>> np.stack((ar1, ar2), axis=2)     # 增加第三个维度（axis2，和axis=-1的效果一样，原来的axis0和axis1保持不变）\n",
    "array([[[ 1,  7],\n",
    "        [ 2,  8],\n",
    "        [ 3,  9]],\n",
    "       [[ 4, 11],\n",
    "        [ 5, 12],\n",
    "        [ 6, 13]]])\n",
    "```\n",
    "关于维度增加的一种理解方式\n",
    "\n",
    "#### hstack、vstack和vstack\n",
    "```\n",
    ">>> np.hstack((ar1,ar2))    # 水平拼接，沿着行的方向，对列进行拼接\n",
    "array([[ 1,  2,  3,  7,  8,  9],\n",
    "       [ 4,  5,  6, 11, 12, 13]])\n",
    "\n",
    ">>> np.vstack((ar1,ar2))    # 垂直拼接，沿着列的方向，对行进行拼接\n",
    "array([[ 1,  2,  3],\n",
    "       [ 4,  5,  6],\n",
    "       [ 7,  8,  9],\n",
    "       [11, 12, 13]])\n",
    "       \n",
    ">>> np.dstack((ar1,ar2))    # 对于2维数组来说，沿着第三轴（深度方向）进行拼接, 效果相当于stack(axis=-1)\n",
    "array([[[ 1,  7],\n",
    "        [ 2,  8],\n",
    "        [ 3,  9]],\n",
    "       [[ 4, 11],\n",
    "        [ 5, 12],\n",
    "        [ 6, 13]]])\n",
    "```\n",
    "\n",
    "#### column_stack和row_stack\n",
    "```\n",
    ">>> np.column_stack((ar1,ar2))   # 水平拼接，沿着行的方向，对列进行拼接\n",
    "array([[ 1,  2,  3,  7,  8,  9],\n",
    "      [ 4,  5,  6, 11, 12, 13]])\n",
    "\n",
    ">>> np.row_stack((ar1,ar2))    # 垂直拼接，沿着列的方向，对行进行拼接\n",
    "array([[ 1,  2,  3],\n",
    "      [ 4,  5,  6],\n",
    "      [ 7,  8,  9],\n",
    "      [11, 12, 13]])\n",
    "```\n",
    "\n",
    "#### np.r_ 和np.c_\n",
    "常用于快速生成ndarray数据\n",
    "```\n",
    ">>> np.r_[ar1,ar2]     # 垂直拼接，沿着列的方向，对行进行拼接\n",
    "array([[ 1,  2,  3],\n",
    "       [ 4,  5,  6],\n",
    "       [ 7,  8,  9],\n",
    "       [11, 12, 13]])\n",
    "  \n",
    ">>> np.c_[ar1,ar2]   # 水平拼接，沿着行的方向，对列进行拼接\n",
    "array([[ 1,  2,  3,  7,  8,  9],\n",
    "       [ 4,  5,  6, 11, 12, 13]])\n",
    "```\n",
    "\n",
    "#### 总结\n",
    "对于两个shape一样的二维array来说:\n",
    "\n",
    "**增加行（对行进行拼接）的方法有：**\n",
    "np.concatenate((ar1, ar2),axis=0)\n",
    "np.append(ar1, ar2, axis=0)\n",
    "np.vstack((ar1,ar2))\n",
    "np.row_stack((ar1,ar2))\n",
    "np.r_[ar1,ar2]\n",
    "\n",
    "**增加列（对列进行拼接）的方法有：**\n",
    "np.concatenate((ar1, ar2),axis=1)\n",
    "np.append(ar1, ar2, axis=1)\n",
    "np.hstack((ar1,ar2))\n",
    "np.column_stack((ar1,ar2))\n",
    "np.c_[ar1,ar2]\n",
    "\n",
    "摘自：https://blog.csdn.net/guofei_fly/article/details/85485173?utm_medium=distribute.pc_relevant.none-task-blog-2%7Edefault%7EBlogCommendFromMachineLearnPai2%7Edefault-1.control&depth_1-utm_source=distribute.pc_relevant.none-task-blog-2%7Edefault%7EBlogCommendFromMachineLearnPai2%7Edefault-1.control"
   ]
  },
  {
   "cell_type": "markdown",
   "id": "9ba3779c",
   "metadata": {},
   "source": [
    "要循环添加元素最好使用append然后concatenate起来（axis=0）\n",
    "\n",
    "或者使用zeros(0,3)等方法先建立空数据，但是保证要堆叠的维度一样长，比如这里的列是3，即为堆叠的维度，行为0，即为要增加的数据再行上面。然后再直接使用concatenate循环来堆叠元素\n",
    "\n",
    "但是使用append方式对于深度学习读取大量数据的时候会很慢，因为每次都会把之前的数组复制给一个新的数组，在后期该数组很大的情况时速度明显会减慢很多，所以对于深度学习里面最好不用append，这里想法是先给定数组大小，庵后往里面填数据就可以了。"
   ]
  },
  {
   "cell_type": "markdown",
   "id": "3cce74a3",
   "metadata": {},
   "source": [
    "## numpy矩阵添加一行或一列"
   ]
  },
  {
   "cell_type": "markdown",
   "id": "ebaf027d",
   "metadata": {},
   "source": [
    "refs:\n",
    "\n",
    "[numpy矩阵添加一行或一列](https://blog.csdn.net/zzzzlei123123123/article/details/100152883)"
   ]
  },
  {
   "cell_type": "markdown",
   "id": "ce999ac3",
   "metadata": {},
   "source": [
    "### np.c_ | np.r_"
   ]
  },
  {
   "cell_type": "code",
   "execution_count": 2,
   "id": "e451ed83",
   "metadata": {
    "ExecuteTime": {
     "end_time": "2021-11-03T06:33:15.975634Z",
     "start_time": "2021-11-03T06:33:15.971581Z"
    }
   },
   "outputs": [
    {
     "name": "stdout",
     "output_type": "stream",
     "text": [
      "c: [[1 2 3]\n",
      " [4 5 6]\n",
      " [7 8 9]\n",
      " [0 0 0]]\n",
      "d: [[1 2 3 0]\n",
      " [4 5 6 0]\n",
      " [7 8 9 0]]\n"
     ]
    }
   ],
   "source": [
    "import numpy as np\n",
    "\n",
    "a = np.array([[1,2,3],[4,5,6],[7,8,9]])\n",
    "b = np.array([[0,0,0]])\n",
    "c = np.r_[a,b]\n",
    "d = np.c_[a,b.T]\n",
    "\n",
    "print(f'c: {c}')\n",
    "print(f'd: {d}')"
   ]
  },
  {
   "cell_type": "markdown",
   "id": "eede1aa5",
   "metadata": {},
   "source": [
    "将切片对象转换为沿第二轴的连接。这是简单的，因为它很常见，所以很有用。特别是，阵列将在升级到至少2-D后沿着它们的最后一个轴堆叠，其中1个后置为形状（由1-D阵列制成的列向量）\n",
    "+ 该方法只能将两个矩阵合并\n",
    "+ 注意要合并的两矩阵的行列关系"
   ]
  },
  {
   "cell_type": "markdown",
   "id": "276efdc4",
   "metadata": {},
   "source": [
    "### np.insert"
   ]
  },
  {
   "cell_type": "code",
   "execution_count": 6,
   "id": "1094e313",
   "metadata": {
    "ExecuteTime": {
     "end_time": "2021-11-03T06:40:39.811577Z",
     "start_time": "2021-11-03T06:40:39.805971Z"
    }
   },
   "outputs": [
    {
     "name": "stdout",
     "output_type": "stream",
     "text": [
      "c: [[0 0 0]\n",
      " [1 2 3]\n",
      " [4 5 6]\n",
      " [7 8 9]]\n",
      "d: [[0 1 2 3]\n",
      " [0 4 5 6]\n",
      " [0 7 8 9]]\n"
     ]
    }
   ],
   "source": [
    "import numpy as np\n",
    "a = np.array([[1,2,3],[4,5,6],[7,8,9]])\n",
    "b = np.array([[0,0,0]])\n",
    "c = np.insert(a, 0, values=b, axis=0)\n",
    "d = np.insert(a, 0, values=b, axis=1)\n",
    "print(f'c: {c}')\n",
    "print(f'd: {d}')"
   ]
  },
  {
   "cell_type": "markdown",
   "id": "da010d6a",
   "metadata": {},
   "source": [
    "+ 这种是将一个集合插入到一个矩阵中，对于b可以是列表或元组，它仅仅提供要插入的值，但个数要对\n",
    "+ np.insert的第二个参数是插入的位置，axis用来控制是插入行还是列，可见该方法非常灵活！"
   ]
  },
  {
   "cell_type": "markdown",
   "id": "5f081042",
   "metadata": {},
   "source": [
    "### np.row_stack | np.colum_stack"
   ]
  },
  {
   "cell_type": "code",
   "execution_count": 9,
   "id": "4d5d8d8f",
   "metadata": {
    "ExecuteTime": {
     "end_time": "2021-11-03T06:41:40.859378Z",
     "start_time": "2021-11-03T06:41:40.851632Z"
    }
   },
   "outputs": [],
   "source": [
    "import numpy as np\n",
    "a = np.array([[1,2,3],[4,5,6],[7,8,9]])\n",
    "b = np.array([[0,0,0]])\n",
    "c = np.row_stack((a,b))\n",
    "d = np.column_stack((a,b.T))"
   ]
  },
  {
   "cell_type": "markdown",
   "id": "c387bdb9",
   "metadata": {},
   "source": [
    "+ 类似于c_， r_"
   ]
  },
  {
   "cell_type": "markdown",
   "id": "504af03e",
   "metadata": {},
   "source": [
    "## 判断两个list相等"
   ]
  },
  {
   "cell_type": "code",
   "execution_count": 10,
   "id": "2acdd2de",
   "metadata": {
    "ExecuteTime": {
     "end_time": "2021-11-03T06:43:46.726147Z",
     "start_time": "2021-11-03T06:43:46.715397Z"
    }
   },
   "outputs": [
    {
     "name": "stdout",
     "output_type": "stream",
     "text": [
      "True\n",
      "False\n"
     ]
    }
   ],
   "source": [
    "import operator\n",
    " \n",
    "a=[1,-1,0]\n",
    "b=[1,-1,0]\n",
    "c=[-1,1,0]\n",
    "print(operator.eq(a,b))\n",
    "print(operator.eq(a,c))"
   ]
  },
  {
   "cell_type": "markdown",
   "id": "be8522f7",
   "metadata": {},
   "source": [
    "Python2可以使用cmp()函数，但是在Python3中我们可以使用下面的方法来比较两个list是否相等;\n",
    "\n",
    "两个列表必须完全相同（包括位置），只有这样才能是True。"
   ]
  },
  {
   "cell_type": "code",
   "execution_count": null,
   "id": "19693f69",
   "metadata": {},
   "outputs": [],
   "source": []
  },
  {
   "cell_type": "markdown",
   "id": "0ea0e03a",
   "metadata": {},
   "source": [
    "## 矩阵乘积运算(multiply/maumul/*/@)解析"
   ]
  },
  {
   "cell_type": "markdown",
   "id": "09d48a6a",
   "metadata": {},
   "source": [
    "在训练数据时经常涉及到矩阵运算，有段时间没有练习过了，手便生疏了，今天重新测了一把，python中各类矩阵运算举例如下，可以清楚的看到tf.matmul(A,C)=np.dot(A,C)= A@C都属于叉乘，而tf.multiply(A,C)= A*C=A∙C属于点乘。"
   ]
  },
  {
   "attachments": {
    "image.png": {
     "image/png": "[encoded data removed]"
    }
   },
   "cell_type": "markdown",
   "id": "41c8b7cf",
   "metadata": {},
   "source": [
    "![image.png](attachment:image.png)"
   ]
  },
  {
   "cell_type": "code",
   "execution_count": 13,
   "id": "0ab73478",
   "metadata": {
    "ExecuteTime": {
     "end_time": "2021-11-03T06:50:28.990555Z",
     "start_time": "2021-11-03T06:50:28.904818Z"
    }
   },
   "outputs": [
    {
     "name": "stdout",
     "output_type": "stream",
     "text": [
      "a:\n",
      " [[1 2]\n",
      " [3 4]]\n",
      "b:\n",
      " [5 6]\n",
      "c:\n",
      " [[5 6]\n",
      " [7 8]]\n",
      "d1:叉乘a@c\n",
      " [[19 22]\n",
      " [43 50]]\n",
      "d2:叉乘matmul(a,c)\n",
      " tensor([[19., 22.],\n",
      "        [43., 50.]])\n",
      "d3:叉乘dot(a,c)\n",
      " [[19 22]\n",
      " [43 50]]\n",
      "f1:点乘a*c\n",
      " [[ 5 12]\n",
      " [21 32]]\n",
      "f2:点乘multiply(a,c)\n",
      " tensor([[ 5., 12.],\n",
      "        [21., 32.]])\n"
     ]
    }
   ],
   "source": [
    "import torch\n",
    "import numpy as np\n",
    "\n",
    "a = np.array([[1,2],[3,4]])\n",
    "b = np.array([5,6])\n",
    "c = np.array([[5,6],[7,8]])\n",
    "print('a:'+'\\n',a)\n",
    "print('b:'+'\\n',b)\n",
    "print('c:'+'\\n',c)\n",
    "#叉乘\n",
    "d1=a@c\n",
    "d2=torch.matmul(torch.FloatTensor(a),torch.FloatTensor(c))\n",
    "d3=np.dot(a,c)\n",
    "#点乘\n",
    "f1=a*c\n",
    "f2=torch.multiply(torch.FloatTensor(a),torch.FloatTensor(c))\n",
    "\n",
    "print('d1:叉乘a@c' + '\\n', d1)\n",
    "print('d2:叉乘matmul(a,c)' + '\\n', d2)\n",
    "print('d3:叉乘dot(a,c)' + '\\n', d3)\n",
    "print('f1:点乘a*c' + '\\n', f1)\n",
    "print('f2:点乘multiply(a,c)' + '\\n', f2)"
   ]
  },
  {
   "cell_type": "code",
   "execution_count": null,
   "id": "593cab28",
   "metadata": {},
   "outputs": [],
   "source": []
  },
  {
   "cell_type": "code",
   "execution_count": null,
   "id": "7612dc04",
   "metadata": {},
   "outputs": [],
   "source": []
  },
  {
   "cell_type": "code",
   "execution_count": null,
   "id": "2678d752",
   "metadata": {},
   "outputs": [],
   "source": []
  },
  {
   "cell_type": "code",
   "execution_count": null,
   "id": "aaf28b6e",
   "metadata": {},
   "outputs": [],
   "source": []
  },
  {
   "cell_type": "code",
   "execution_count": null,
   "id": "1ee2818a",
   "metadata": {},
   "outputs": [],
   "source": []
  },
  {
   "cell_type": "code",
   "execution_count": null,
   "id": "fed20066",
   "metadata": {},
   "outputs": [],
   "source": []
  }
 ],
 "metadata": {
  "kernelspec": {
   "display_name": "Python 3.8.11 64-bit ('autodrive': conda)",
   "language": "python",
   "name": "python3811jvsc74a57bd0a933eb90e2068edf21e05feb7729729573d4449148bdd4e55a407fe5054b730d"
  },
  "language_info": {
   "codemirror_mode": {
    "name": "ipython",
    "version": 3
   },
   "file_extension": ".py",
   "mimetype": "text/x-python",
   "name": "python",
   "nbconvert_exporter": "python",
   "pygments_lexer": "ipython3",
   "version": "3.8.11"
  },
  "toc": {
   "base_numbering": 1,
   "nav_menu": {},
   "number_sections": true,
   "sideBar": true,
   "skip_h1_title": false,
   "title_cell": "Table of Contents",
   "title_sidebar": "Contents",
   "toc_cell": false,
   "toc_position": {},
   "toc_section_display": true,
   "toc_window_display": true
  },
  "varInspector": {
   "cols": {
    "lenName": 16,
    "lenType": 16,
    "lenVar": 40
   },
   "kernels_config": {
    "python": {
     "delete_cmd_postfix": "",
     "delete_cmd_prefix": "del ",
     "library": "var_list.py",
     "varRefreshCmd": "print(var_dic_list())"
    },
    "r": {
     "delete_cmd_postfix": ") ",
     "delete_cmd_prefix": "rm(",
     "library": "var_list.r",
     "varRefreshCmd": "cat(var_dic_list()) "
    }
   },
   "types_to_exclude": [
    "module",
    "function",
    "builtin_function_or_method",
    "instance",
    "_Feature"
   ],
   "window_display": false
  }
 },
 "nbformat": 4,
 "nbformat_minor": 5
}
