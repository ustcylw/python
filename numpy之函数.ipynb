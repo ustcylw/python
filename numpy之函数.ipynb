{
 "cells": [
  {
   "cell_type": "markdown",
   "id": "b1c8ebb1",
   "metadata": {},
   "source": [
    "# numpy之函数"
   ]
  },
  {
   "cell_type": "markdown",
   "id": "655310b0",
   "metadata": {},
   "source": [
    "refs:\n"
   ]
  },
  {
   "cell_type": "markdown",
   "id": "3f30c275",
   "metadata": {},
   "source": [
    "## 基础函数"
   ]
  },
  {
   "cell_type": "markdown",
   "id": "d99903e7",
   "metadata": {},
   "source": [
    "### np.isin()"
   ]
  },
  {
   "cell_type": "markdown",
   "id": "118bbd66",
   "metadata": {},
   "source": [
    "np.isin(a,b) 用于判定a中的元素在b中是否出现过，如果出现过返回True,否则返回False,最终结果为一个形状和a一模一样的数组。\n",
    "但是当参数invert被设置为True时，情况恰好相反，如果a中元素在b中没有出现则返回True,如果出现了则返回False."
   ]
  },
  {
   "cell_type": "code",
   "execution_count": 1,
   "id": "e5e4eaf8",
   "metadata": {
    "ExecuteTime": {
     "end_time": "2021-06-11T08:54:07.547817Z",
     "start_time": "2021-06-11T08:54:07.541058Z"
    }
   },
   "outputs": [
    {
     "name": "stdout",
     "output_type": "stream",
     "text": [
      "Np_No_invert\n",
      " [[ True]\n",
      " [ True]\n",
      " [ True]]\n",
      "Np_invert\n",
      " [[False]\n",
      " [False]\n",
      " [False]]\n"
     ]
    }
   ],
   "source": [
    "import numpy as np\n",
    "# 这里使用reshape是为了验证是否对高维数组适用，返回一个和a形状一样的数组\n",
    "a=np.array([1,3,7]).reshape(3,1)\n",
    "b=np.arange(9).reshape(3,3)\n",
    "# a 中的元素是否在b中，如果在b中显示True\n",
    "Np_No_invert=np.isin(a, b, invert=False)\n",
    "print(\"Np_No_invert\\n\",Np_No_invert)\n",
    "# a 中的元素是否在b中，如果设置了invert=True,则情况恰恰相反，即a中元素在b中则返回False\n",
    "Np_invert=np.isin(a, b, invert=True)\n",
    "print(\"Np_invert\\n\",Np_invert)"
   ]
  },
  {
   "cell_type": "markdown",
   "id": "dae4d3a5",
   "metadata": {
    "ExecuteTime": {
     "end_time": "2021-06-11T08:54:44.158585Z",
     "start_time": "2021-06-11T08:54:44.156345Z"
    }
   },
   "source": [
    "### np.setdiff1d()"
   ]
  },
  {
   "cell_type": "markdown",
   "id": "6eef97d1",
   "metadata": {},
   "source": [
    "回仅在数组A中有而B数组没有的元素（A和B的差集）"
   ]
  },
  {
   "cell_type": "code",
   "execution_count": 3,
   "id": "8fd328b0",
   "metadata": {
    "ExecuteTime": {
     "end_time": "2021-06-11T08:55:43.548616Z",
     "start_time": "2021-06-11T08:55:43.538572Z"
    }
   },
   "outputs": [
    {
     "name": "stdout",
     "output_type": "stream",
     "text": [
      "[1 2 5 9]\n"
     ]
    }
   ],
   "source": [
    "a = np.array([1, 2, 3, 4, 5, 6, 7, 8, 9])\n",
    "b = np.array([3, 4, 7, 6, 7, 8, 11, 12, 14])\n",
    "diff = np.setdiff1d(a, b)\n",
    "print(diff)"
   ]
  },
  {
   "cell_type": "code",
   "execution_count": null,
   "id": "3569ed5c",
   "metadata": {},
   "outputs": [],
   "source": []
  }
 ],
 "metadata": {
  "kernelspec": {
   "display_name": "“autodrive”",
   "language": "python",
   "name": "autodrive"
  },
  "language_info": {
   "codemirror_mode": {
    "name": "ipython",
    "version": 3
   },
   "file_extension": ".py",
   "mimetype": "text/x-python",
   "name": "python",
   "nbconvert_exporter": "python",
   "pygments_lexer": "ipython3",
   "version": "3.8.12"
  },
  "toc": {
   "base_numbering": 1,
   "nav_menu": {},
   "number_sections": true,
   "sideBar": true,
   "skip_h1_title": false,
   "title_cell": "Table of Contents",
   "title_sidebar": "Contents",
   "toc_cell": false,
   "toc_position": {},
   "toc_section_display": true,
   "toc_window_display": true
  },
  "varInspector": {
   "cols": {
    "lenName": 16,
    "lenType": 16,
    "lenVar": 40
   },
   "kernels_config": {
    "python": {
     "delete_cmd_postfix": "",
     "delete_cmd_prefix": "del ",
     "library": "var_list.py",
     "varRefreshCmd": "print(var_dic_list())"
    },
    "r": {
     "delete_cmd_postfix": ") ",
     "delete_cmd_prefix": "rm(",
     "library": "var_list.r",
     "varRefreshCmd": "cat(var_dic_list()) "
    }
   },
   "types_to_exclude": [
    "module",
    "function",
    "builtin_function_or_method",
    "instance",
    "_Feature"
   ],
   "window_display": false
  }
 },
 "nbformat": 4,
 "nbformat_minor": 5
}
